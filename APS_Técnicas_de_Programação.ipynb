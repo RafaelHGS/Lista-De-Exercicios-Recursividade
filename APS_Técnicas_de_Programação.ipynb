{
  "nbformat": 4,
  "nbformat_minor": 0,
  "metadata": {
    "colab": {
      "name": "APS - Técnicas de Programação.ipynb",
      "provenance": [],
      "include_colab_link": true
    },
    "kernelspec": {
      "display_name": "Python 3",
      "name": "python3"
    },
    "language_info": {
      "name": "python"
    }
  },
  "cells": [
    {
      "cell_type": "markdown",
      "metadata": {
        "id": "view-in-github",
        "colab_type": "text"
      },
      "source": [
        "<a href=\"https://colab.research.google.com/github/RafaelHGS/Lista-De-Exercicios-Recursividade/blob/main/APS_T%C3%A9cnicas_de_Programa%C3%A7%C3%A3o.ipynb\" target=\"_parent\"><img src=\"https://colab.research.google.com/assets/colab-badge.svg\" alt=\"Open In Colab\"/></a>"
      ]
    },
    {
      "cell_type": "markdown",
      "metadata": {
        "id": "JfklGzXMHA_Y"
      },
      "source": [
        "**Configurações de Ambiente e limite máximo de recursividade**\n",
        "\n",
        "Para executar basta, em ordem, clicar no play de cada célula OU selecionar a célula e pressionar as teclas \"Shift\" + \"Enter\""
      ]
    },
    {
      "cell_type": "code",
      "metadata": {
        "id": "eNiphMlcGue4"
      },
      "source": [
        "from random import seed\n",
        "from random import randint\n",
        "import time\n",
        "import sys\n",
        "import numpy as np\n",
        "\n",
        "sys.setrecursionlimit(10 ** 9)"
      ],
      "execution_count": null,
      "outputs": []
    },
    {
      "cell_type": "markdown",
      "metadata": {
        "id": "gQ2fL9FxHIKh"
      },
      "source": [
        "**Solução Iterativa - QuickSort**"
      ]
    },
    {
      "cell_type": "code",
      "metadata": {
        "id": "IWQJGVEwG_5_"
      },
      "source": [
        "def partition(colecao, l, h):\n",
        "    i = ( l - 1 )\n",
        "    x = colecao[h]\n",
        " \n",
        "    for j in range(l, h):\n",
        "        if   colecao[j] <= x:\n",
        "\n",
        "            i = i + 1\n",
        "            colecao[i], colecao[j] = colecao[j], colecao[i]\n",
        " \n",
        "    colecao[i + 1], colecao[h] = colecao[h], colecao[i + 1]\n",
        "    return (i + 1)\n",
        " \n",
        "def quickSortIterative(colecao, l, h):\n",
        " \n",
        "    size = h - l + 1\n",
        "    stack = [0] * (size)\n",
        " \n",
        "    top = -1\n",
        " \n",
        "    top = top + 1\n",
        "    stack[top] = l\n",
        "    top = top + 1\n",
        "    stack[top] = h\n",
        " \n",
        "    while top >= 0:\n",
        " \n",
        "        h = stack[top]\n",
        "        top = top - 1\n",
        "        l = stack[top]\n",
        "        top = top - 1\n",
        " \n",
        "        p = partition( colecao, l, h )\n",
        " \n",
        "        if p-1 > l:\n",
        "            top = top + 1\n",
        "            stack[top] = l\n",
        "            top = top + 1\n",
        "            stack[top] = p - 1\n",
        " \n",
        "        if p + 1 < h:\n",
        "            top = top + 1\n",
        "            stack[top] = p + 1\n",
        "            top = top + 1\n",
        "            stack[top] = h"
      ],
      "execution_count": null,
      "outputs": []
    },
    {
      "cell_type": "markdown",
      "metadata": {
        "id": "M9C3MChOHLQc"
      },
      "source": [
        "**Solução Recursiva - QuickSort**"
      ]
    },
    {
      "cell_type": "code",
      "metadata": {
        "id": "ZFbe2UHKGzmD"
      },
      "source": [
        "def partition(colecao, low, high):\n",
        "    i = (low - 1)        \n",
        "    pivot = colecao[high]    \n",
        " \n",
        "    for j in range(low, high):\n",
        "        if colecao[j] <= pivot:\n",
        "            i += 1\n",
        "            colecao[i], colecao[j] = colecao[j], colecao[i]\n",
        " \n",
        "    colecao[i + 1], colecao[high] = colecao[high], colecao[i + 1]\n",
        "    return (i + 1)\n",
        " \n",
        "def quickSortRecursive(colecao, low, high):\n",
        "    if low < high:\n",
        " \n",
        "        pi = partition(colecao, low, high)\n",
        " \n",
        "        quickSortRecursive(colecao, low, pi-1)\n",
        "        quickSortRecursive(colecao, pi + 1, high)\n",
        "\n",
        "## Fim Solução Recursiva\n",
        "\n",
        "\n"
      ],
      "execution_count": null,
      "outputs": []
    },
    {
      "cell_type": "markdown",
      "metadata": {
        "id": "n_8H53BVHOhv"
      },
      "source": [
        "**Criando Coleção**\n",
        "\n",
        "Utilizando valores aleatórios"
      ]
    },
    {
      "cell_type": "code",
      "metadata": {
        "id": "9FGT6W8XG136"
      },
      "source": [
        "def criarColecao(colecao, tamanho):\n",
        "     for indice in range(0, tamanho):\n",
        "        valor = np.int64(randint(0, 51))\n",
        "        colecao.append(valor)"
      ],
      "execution_count": null,
      "outputs": []
    },
    {
      "cell_type": "markdown",
      "metadata": {
        "id": "eqpPJHImHVxm"
      },
      "source": [
        "**O que fazer na APS?**\n",
        "\n",
        "\n",
        "0.   Estudar algoritmo QuickSort\n",
        "1.   Definir um conjunto de \"tamanhos\" de experimento para os testes\n",
        "2.   Rodar os Testes e anotar os tempos\n",
        "3.   Preparar uma conclusão a respeito do tempo de solução e o custo benefícios para implementação\n",
        "4.   Apresentar os tempos no formato de tabela\n",
        "\n",
        "**Desafio**: Utilizar Pandas e MatplotLib para apresentar os resultados. 0,5 na N2\n",
        "\n",
        "*Função Principal*\n"
      ]
    },
    {
      "cell_type": "code",
      "metadata": {
        "id": "YO2dO1fsG6UG"
      },
      "source": [
        "def main():\n",
        "  TAMANHO = 500000 \n",
        "  colecao = []\n",
        "\n",
        "  criarColecao(colecao,  TAMANHO)\n",
        "  \n",
        "  colecaoRecursiva = colecao.copy()\n",
        "  colecaoIterativa = colecao.copy()\n",
        "\n",
        "  tempoInicial = time.time() \n",
        "  quickSortRecursive(colecaoRecursiva, 0, TAMANHO - 1)\n",
        "  tempoFinal = time.time()\n",
        "\n",
        "  print(\"Tempo Solução Recursiva: {} s\".format(tempoFinal - tempoInicial))\n",
        "\n",
        "  tempoInicial = time.time() \n",
        "  quickSortIterative(colecaoIterativa, 0, TAMANHO - 1) \n",
        "  tempoFinal = time.time()\n",
        "  print(\"Tempo Solução Iterativa: {} s\".format(tempoFinal - tempoInicial))"
      ],
      "execution_count": null,
      "outputs": []
    },
    {
      "cell_type": "code",
      "metadata": {
        "colab": {
          "background_save": true,
          "base_uri": "https://localhost:8080/"
        },
        "id": "fu0u6xfMG3jn",
        "outputId": "e4f0c857-91a2-454f-a0e9-d51af153a485"
      },
      "source": [
        "if __name__ == '__main__' :\n",
        "    main()"
      ],
      "execution_count": null,
      "outputs": [
        {
          "name": "stdout",
          "output_type": "stream",
          "text": [
            "Tempo Solução Recursiva: 781.2891793251038 s\n",
            "Tempo Solução Iterativa: 656.6084649562836 s\n"
          ]
        }
      ]
    },
    {
      "cell_type": "markdown",
      "metadata": {
        "id": "PpND532mIEXb"
      },
      "source": [
        "**Exemplo para criar gráfico e uma planilha com Pandas**\n",
        "\n",
        "- Clique na pasta a esquerda e veja o arquivo PNG e a planilha que foram geradas!"
      ]
    },
    {
      "cell_type": "code",
      "metadata": {
        "colab": {
          "base_uri": "https://localhost:8080/",
          "height": 295
        },
        "id": "VHSedOpLHumV",
        "outputId": "a7b4e7e5-02a3-48e8-ab0f-ec7ea8990cbe"
      },
      "source": [
        "import pandas as pd\n",
        "import matplotlib.pyplot as plt\n",
        "\n",
        "listaQtdParticipantes = [50, 500, 5000, 50000]\n",
        "listaVotoRoxo = [23, 210, 1800, 23145]\n",
        "listaVotoAmarelo = [27, 290, 3200, 26855]\n",
        "\n",
        "dicionario = {\"QTD\": listaQtdParticipantes, \"VOTOS_ROXO\": listaVotoRoxo, \"VOTOS_AMARELO\": listaVotoAmarelo}\n",
        "\n",
        "planilha = pd.DataFrame.from_dict(dicionario)\n",
        "planilha.to_excel(\"Dados.xlsx\")\n",
        "\n",
        "plt.plot(planilha[\"QTD\"], planilha[\"VOTOS_ROXO\"], color = \"purple\")\n",
        "plt.plot(planilha[\"QTD\"], planilha[\"VOTOS_AMARELO\"], color = \"yellow\")\n",
        "\n",
        "plt.title(\"Quantidade de votantes x amostragem\")\n",
        "plt.xlabel(\"Tempo (s)\")\n",
        "plt.ylabel(\"Quantidade Pessoas (N)\")\n",
        "\n",
        "plt.savefig(\"Grafico.png\")\n",
        "plt.show()\n"
      ],
      "execution_count": null,
      "outputs": [
        {
          "data": {
            "image/png": "[encoded data removed]",
            "text/plain": [
              "<Figure size 432x288 with 1 Axes>"
            ]
          },
          "metadata": {},
          "output_type": "display_data"
        }
      ]
    },
    {
      "cell_type": "code",
      "metadata": {
        "id": "4k88kSWUJCP1"
      },
      "source": [
        ""
      ],
      "execution_count": null,
      "outputs": []
    }
  ]
}